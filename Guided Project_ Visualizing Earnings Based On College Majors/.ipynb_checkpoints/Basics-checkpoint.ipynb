{
 "cells": [
  {
   "cell_type": "markdown",
   "metadata": {
    "collapsed": true
   },
   "source": [
    "In this guided project, I'll explore how using the pandas plotting functionality along with the Jupyter notebook interface allows exploring data quickly using visualizations. \n",
    "\n",
    "I'll be working with a dataset on the job outcomes of students who graduated from college between 2010 and 2012. The original data on job outcomes was released by American Community Survey, which conducts surveys and aggregates the data. FiveThirtyEight cleaned the dataset and released it on their Github repo.\n",
    "\n",
    "Using visualizations, I will start to explore questions from the dataset like:\n",
    "\n",
    "Do students in more popular majors make more money?\n",
    "Using scatter plots\n",
    "How many majors are predominantly male? Predominantly female?\n",
    "Using histograms\n",
    "Which category of majors have the most students?\n",
    "Using bar plots\n",
    "\n",
    "I'll explore how to do these and more while primarily working in pandas. Before we start creating data visualizations, let's import the libraries we need and remove rows containing null values."
   ]
  }
 ],
 "metadata": {
  "kernelspec": {
   "display_name": "Python 3",
   "language": "python",
   "name": "python3"
  },
  "language_info": {
   "codemirror_mode": {
    "name": "ipython",
    "version": 3
   },
   "file_extension": ".py",
   "mimetype": "text/x-python",
   "name": "python",
   "nbconvert_exporter": "python",
   "pygments_lexer": "ipython3",
   "version": "3.4.3"
  }
 },
 "nbformat": 4,
 "nbformat_minor": 0
}
